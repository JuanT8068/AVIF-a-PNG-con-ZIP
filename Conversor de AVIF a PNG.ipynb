{
 "cells": [
  {
   "cell_type": "code",
   "execution_count": null,
   "id": "7fce4bd8",
   "metadata": {},
   "outputs": [],
   "source": [
    "pip install pillow-avif-plugin Pillow"
   ]
  },
  {
   "cell_type": "code",
   "execution_count": null,
   "id": "a2a4881b",
   "metadata": {},
   "outputs": [],
   "source": [
    "from PIL import Image\n",
    "import pillow_avif\n",
    "import zipfile\n",
    "import os"
   ]
  },
  {
   "cell_type": "markdown",
   "id": "bb9881b3",
   "metadata": {},
   "source": [
    "### Convertir las imágenes de AVIF a PNG"
   ]
  },
  {
   "cell_type": "code",
   "execution_count": null,
   "id": "b667d790",
   "metadata": {},
   "outputs": [],
   "source": [
    "# Pide que el usuario asigne un nombre a la carpeta\n",
    "folder_name = input(\"Ingrese el nombre de la carpeta: \")\n",
    "\n",
    "# Definir las carpetas\n",
    "input_folder = 'C:\\\\Users\\\\juant\\\\Desktop'  # Cambiar esto a la carpeta en donde están guardadas las imágenes AVIF\n",
    "output_folder = os.path.join('C:\\\\Users\\\\juant\\\\Desktop', folder_name)  # Cambiar esto a la carpeta en donde se desea guardar\n",
    "\n",
    "# Crear la carpeta en caso no exista\n",
    "if not os.path.exists(output_folder):\n",
    "    os.makedirs(output_folder)\n",
    "else:\n",
    "    print(f'La carpeta \"{output_folder}\" ya existe.')\n",
    "\n",
    "# Listar todos los archivos AVIF en la carpeta de inicio\n",
    "avif_files = [f for f in os.listdir(input_folder) if f.endswith('.avif')]\n",
    "\n",
    "# Iterar entre los archivos AVIF y convertirlas a PNG\n",
    "for avif_file in avif_files:\n",
    "    avif_path = os.path.join(input_folder, avif_file)\n",
    "    png_file = avif_file.replace('.avif', '.png')\n",
    "    png_path = os.path.join(output_folder, png_file)\n",
    "\n",
    "    # Guardar la imagen en la carpeta de destino\n",
    "    with Image.open(avif_path) as img:\n",
    "        img.save(png_path)\n",
    "\n",
    "    # Mensaje que indica qué imágenes se convirtieron\n",
    "    print(f'Se convirtió {avif_file} a {os.path.basename(png_path)}')\n",
    "\n",
    "# Mensaje que confirma que todas las imágenes se convirtieron con éxito\n",
    "print('La conversión se ha realizado con éxito.')"
   ]
  },
  {
   "cell_type": "markdown",
   "id": "78a597a9",
   "metadata": {},
   "source": [
    "### Convertir la carpeta finalizada en un archivo ZIP"
   ]
  },
  {
   "cell_type": "code",
   "execution_count": null,
   "id": "4754fc13",
   "metadata": {},
   "outputs": [],
   "source": [
    "# Retiene el nombre de la carpeta inicial y hace que el ZIP se guarde en la misma ubicación\n",
    "folder_to_zip = output_folder\n",
    "output_zip_file = f'{output_folder}.zip'\n",
    "\n",
    "# Crea un archivo ZIP y agrega los archivos de la carpeta\n",
    "with zipfile.ZipFile(output_zip_file, 'w', zipfile.ZIP_DEFLATED) as zipf:\n",
    "    for foldername, subfolders, filenames in os.walk(folder_to_zip):\n",
    "        for filename in filenames:\n",
    "            filepath = os.path.join(foldername, filename)\n",
    "            arcname = os.path.relpath(filepath, folder_to_zip)\n",
    "            zipf.write(filepath, arcname)\n",
    "\n",
    "# Mensaje que confirma que todas las imágenes se convirtieron con éxito\n",
    "print(\"La conversión a ZIP se realizó con éxito\")"
   ]
  }
 ],
 "metadata": {
  "kernelspec": {
   "display_name": "Python 3 (ipykernel)",
   "language": "python",
   "name": "python3"
  },
  "language_info": {
   "codemirror_mode": {
    "name": "ipython",
    "version": 3
   },
   "file_extension": ".py",
   "mimetype": "text/x-python",
   "name": "python",
   "nbconvert_exporter": "python",
   "pygments_lexer": "ipython3",
   "version": "3.11.3"
  }
 },
 "nbformat": 4,
 "nbformat_minor": 5
}
